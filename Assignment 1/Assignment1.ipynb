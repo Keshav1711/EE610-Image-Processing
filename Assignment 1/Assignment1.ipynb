{
 "cells": [
  {
   "cell_type": "markdown",
   "id": "f47a48fb",
   "metadata": {},
   "source": [
    "# EE610 - Image Processing \n",
    "## Assignment 1 \n",
    "## Keshav Singhal"
   ]
  },
  {
   "cell_type": "code",
   "execution_count": 23,
   "id": "e2d263be",
   "metadata": {},
   "outputs": [],
   "source": [
    "import cv2 #importing useful libraries\n",
    "%matplotlib inline\n",
    "import matplotlib\n",
    "import matplotlib.pyplot as plt\n",
    "import numpy as np"
   ]
  },
  {
   "cell_type": "markdown",
   "id": "8056c4b8",
   "metadata": {},
   "source": [
    "### 1. Read a color image of your own in jpg format, display it, and print its shape. Comment on what the dimensions correspond to."
   ]
  },
  {
   "cell_type": "code",
   "execution_count": 8,
   "id": "a9851e7b",
   "metadata": {},
   "outputs": [
    {
     "name": "stdout",
     "output_type": "stream",
     "text": [
      "Height = 570,  Width = 985, Intensity =3\n"
     ]
    }
   ],
   "source": [
    "#Reading image using OpenCV's imread function\n",
    "image = cv2.imread('JW.jpg')\n",
    "\n",
    "#Display the image using OpenCV's imshow function\n",
    "cv2.imshow('James Webb',image)\n",
    "cv2.waitKey(0) #Wait's for a keystroke\n",
    "cv2.destroyAllWindows() #Destroys all windows after keystroke\n",
    "\n",
    "h, w, i = image.shape #Stores the values of height and width of image in 'h' and 'w'\n",
    "print(\"Height = {},  Width = {}, Intensity ={}\".format(h, w, i)) #Prints height and width"
   ]
  },
  {
   "cell_type": "markdown",
   "id": "cc279f49",
   "metadata": {},
   "source": [
    "The dimensions, height and width correspond to the span of the image in x-axis and y-axis respectively. The intensity is stored as a 3x1 array with each value ranging from 0 to 255"
   ]
  },
  {
   "cell_type": "markdown",
   "id": "0e76dc4b",
   "metadata": {},
   "source": [
    "Displayed image\n",
    "![image](JW.jpg)"
   ]
  },
  {
   "cell_type": "markdown",
   "id": "1d97b348",
   "metadata": {},
   "source": [
    "### 2. Print the pixel intensities of a small section of the main image, check how various ranges are addressed, and comment on where the origin of the image is."
   ]
  },
  {
   "cell_type": "code",
   "execution_count": 9,
   "id": "e58d43e3",
   "metadata": {
    "scrolled": false
   },
   "outputs": [
    {
     "name": "stdout",
     "output_type": "stream",
     "text": [
      "[[[167 102  63]\n",
      "  [183 110  72]\n",
      "  [132  76  57]\n",
      "  [116  62  45]\n",
      "  [108  57  41]]\n",
      "\n",
      " [[168  97  60]\n",
      "  [163  87  51]\n",
      "  [154  92  62]\n",
      "  [128  70  41]\n",
      "  [109  53  28]]\n",
      "\n",
      " [[154  82  48]\n",
      "  [153  82  48]\n",
      "  [151  87  46]\n",
      "  [145  83  45]\n",
      "  [131  74  42]]\n",
      "\n",
      " [[149  85  51]\n",
      "  [148  93  56]\n",
      "  [143  83  41]\n",
      "  [143  88  51]\n",
      "  [140  91  59]]\n",
      "\n",
      " [[154 102  66]\n",
      "  [134  91  52]\n",
      "  [143  91  55]\n",
      "  [129  82  51]\n",
      "  [128  86  63]]\n",
      "\n",
      " [[146  94  57]\n",
      "  [127  82  44]\n",
      "  [135  84  52]\n",
      "  [128  81  54]\n",
      "  [135  93  74]]\n",
      "\n",
      " [[146  83  45]\n",
      "  [149  86  48]\n",
      "  [139  79  43]\n",
      "  [145  88  56]\n",
      "  [152 102  74]]\n",
      "\n",
      " [[173  93  56]\n",
      "  [172  92  55]\n",
      "  [168 100  55]\n",
      "  [161  95  54]\n",
      "  [149  90  51]]\n",
      "\n",
      " [[170 105  66]\n",
      "  [173 108  69]\n",
      "  [160  98  58]\n",
      "  [154  92  52]\n",
      "  [146  84  46]]\n",
      "\n",
      " [[160  96  55]\n",
      "  [161  96  57]\n",
      "  [155  93  53]\n",
      "  [154  92  52]\n",
      "  [151  89  51]]]\n"
     ]
    }
   ],
   "source": [
    "image = cv2.imread('JW.jpg')\n",
    "image2 = image[200:210,350:355] #Truncates the image between x=200 to x=209 and y=350 to y=354\n",
    "cv2.imwrite('Section.jpg',image2) #Saves the truncated image\n",
    "\n",
    "print(image2) #Prints the intensity values of each pixel of the 5x10 image\n",
    " \n",
    "#Displaying the image\n",
    "cv2.imshow('James Webb',image2)\n",
    "cv2.waitKey(0) #Wait's for a keystroke\n",
    "cv2.destroyAllWindows() #Destroys all windows after keystroke\n"
   ]
  },
  {
   "cell_type": "markdown",
   "id": "35da5086",
   "metadata": {},
   "source": [
    "Section of image\n",
    "![](Section.jpg)"
   ]
  },
  {
   "cell_type": "markdown",
   "id": "4586d311",
   "metadata": {},
   "source": [
    "The intensities of each pixel are stored in a 3x1 array in the BGR format with intensity of each pixel ranging from 0 to 255. For example, intensity of pixel (201,351) is [163  87  51]. \n",
    "\n",
    "The origin of the image is in the top-left corner. The origin of the image section is pixel (200,350) of the original image with intensity [167 102  63]"
   ]
  },
  {
   "cell_type": "markdown",
   "id": "01fa17c5",
   "metadata": {},
   "source": [
    "### 3. Overwrite the values in the small window with 255 and display the new image and comment.\n",
    "\n",
    "I'm using a bigger section of the image for question 3 and 4 to have a better sense of scale"
   ]
  },
  {
   "cell_type": "code",
   "execution_count": 10,
   "id": "c36aca22",
   "metadata": {},
   "outputs": [],
   "source": [
    "image = cv2.imread('JW.jpg')\n",
    "image_copy = image #Copying the image data\n",
    "for i in range(200,300): #Spans the x-range\n",
    "    for j in range(300,450): #Spans the y-range\n",
    "        for m in range(3): #Spans the BGR intensities\n",
    "            image_copy[i][j][m] = 255 #Replaces each pixel color intensity with 255"
   ]
  },
  {
   "cell_type": "code",
   "execution_count": 11,
   "id": "7b23ff66",
   "metadata": {},
   "outputs": [
    {
     "data": {
      "text/plain": [
       "True"
      ]
     },
     "execution_count": 11,
     "metadata": {},
     "output_type": "execute_result"
    }
   ],
   "source": [
    "#Displaying the image\n",
    "cv2.imshow('James Webb',image_copy)\n",
    "cv2.waitKey(0) #Wait's for a keystroke\n",
    "cv2.destroyAllWindows() #Destroys all windows after keystroke\n",
    "\n",
    "cv2.imwrite('Overwrite255.jpg',image_copy) #Saves the truncated image"
   ]
  },
  {
   "cell_type": "markdown",
   "id": "5208261e",
   "metadata": {},
   "source": [
    "Overwritten image\n",
    "![](Overwrite255.jpg)"
   ]
  },
  {
   "cell_type": "markdown",
   "id": "8370cc29",
   "metadata": {},
   "source": [
    "The image section with overwritten intensity values is completely white, the remaining regions are unaffected. "
   ]
  },
  {
   "cell_type": "markdown",
   "id": "c83dcb65",
   "metadata": {},
   "source": [
    "### 4. Overwrite the values in the small window with 256 and display the new image and comment. "
   ]
  },
  {
   "cell_type": "code",
   "execution_count": 12,
   "id": "695fb959",
   "metadata": {},
   "outputs": [],
   "source": [
    "image = cv2.imread('JW.jpg')\n",
    "image_copy2 = image #Copying the image data\n",
    "for i in range(200,300): #Spans the x-range\n",
    "    for j in range(300,450): #Spans the y-range\n",
    "        for m in range(3): #Spans the BGR intensities\n",
    "            image_copy2[i][j][m] = 256 #Replaces each pixel color intensity with 256"
   ]
  },
  {
   "cell_type": "code",
   "execution_count": 13,
   "id": "248f771f",
   "metadata": {},
   "outputs": [
    {
     "data": {
      "text/plain": [
       "True"
      ]
     },
     "execution_count": 13,
     "metadata": {},
     "output_type": "execute_result"
    }
   ],
   "source": [
    "#Displaying the image\n",
    "cv2.imshow('James Webb',image_copy2)\n",
    "cv2.waitKey(0) #Wait's for a keystroke\n",
    "cv2.destroyAllWindows() #Destroys all windows after keystroke\n",
    "\n",
    "cv2.imwrite('Overwrite256.jpg',image_copy2) #Saves the truncated image"
   ]
  },
  {
   "cell_type": "markdown",
   "id": "861893b1",
   "metadata": {},
   "source": [
    "Overwritten image\n",
    "![](Overwrite256.jpg)"
   ]
  },
  {
   "cell_type": "markdown",
   "id": "ec9afd06",
   "metadata": {},
   "source": [
    "The image section with overwritten intensity values is completely black, the remaining regions are unaffected. The intensities are stored in mod 256 format (or 8-bit), thus 256 corresponds to 0 i.e black."
   ]
  },
  {
   "cell_type": "markdown",
   "id": "dc4c9fa3",
   "metadata": {},
   "source": [
    "### 5. Crop a margin of a few pixels from all four sides and store the cropped image in a new image array, and display the cropped image."
   ]
  },
  {
   "cell_type": "code",
   "execution_count": 14,
   "id": "38ba0e47",
   "metadata": {},
   "outputs": [],
   "source": [
    "#Function to crop the image given the number of pixels to remove from each side\n",
    "def crop(img,x_top,x_bottom,y_top,y_bottom): \n",
    "    h, w = img.shape[:2] #Obtaining height and width of image\n",
    "    x = h-x_bottom #index of \n",
    "    y = w-y_bottom\n",
    "    img_crop = img[x_top:x, y_top:y] #Cropping the image as a truncated array\n",
    "    return img_crop"
   ]
  },
  {
   "cell_type": "code",
   "execution_count": 15,
   "id": "1f4c2f97",
   "metadata": {},
   "outputs": [],
   "source": [
    "image = cv2.imread('JW.jpg')\n",
    "image_crop = crop(image,100,100,100,100) #Calling the crop function\n",
    "\n",
    "#Displaying the image\n",
    "cv2.imshow('James Webb',image_crop)\n",
    "cv2.waitKey(0) #Wait's for a keystroke\n",
    "cv2.destroyAllWindows() #Destroys all windows after keystroke"
   ]
  },
  {
   "cell_type": "markdown",
   "id": "801207a4",
   "metadata": {},
   "source": [
    "### 6. Save it as a new image file in png format."
   ]
  },
  {
   "cell_type": "code",
   "execution_count": 16,
   "id": "1afc73a5",
   "metadata": {
    "scrolled": true
   },
   "outputs": [
    {
     "data": {
      "text/plain": [
       "True"
      ]
     },
     "execution_count": 16,
     "metadata": {},
     "output_type": "execute_result"
    }
   ],
   "source": [
    "cv2.imwrite('Crop.png',image_crop) #Saves the cropped image as png"
   ]
  },
  {
   "cell_type": "markdown",
   "id": "6e4b9c1f",
   "metadata": {},
   "source": [
    "Cropped image\n",
    "![crop](Crop.png)"
   ]
  },
  {
   "cell_type": "markdown",
   "id": "71647da2",
   "metadata": {},
   "source": [
    "### 7. Add 50 to all the pixel values of the original image, display the new image and comment on the results."
   ]
  },
  {
   "cell_type": "code",
   "execution_count": 17,
   "id": "41621a74",
   "metadata": {},
   "outputs": [],
   "source": [
    "image = cv2.imread('JW.jpg')\n",
    "image_copy3 = image #Copying the image data\n",
    "for i in range(h): #Spans the x-range\n",
    "    for j in range(w): #Spans the y-range\n",
    "        for m in range(3): #Spans the BGR intensities\n",
    "            image_copy3[i][j][m] += 50 #Adds 50 to each pixel color intensity"
   ]
  },
  {
   "cell_type": "code",
   "execution_count": 18,
   "id": "b1557e68",
   "metadata": {},
   "outputs": [
    {
     "data": {
      "text/plain": [
       "True"
      ]
     },
     "execution_count": 18,
     "metadata": {},
     "output_type": "execute_result"
    }
   ],
   "source": [
    "#Displaying the image\n",
    "cv2.imshow('James Webb',image_copy3)\n",
    "cv2.waitKey(0) #Wait's for a keystroke\n",
    "cv2.destroyAllWindows() #Destroys all windows after keystroke\n",
    "\n",
    "cv2.imwrite('Add50.jpg',image_copy3) #Saves the image"
   ]
  },
  {
   "cell_type": "markdown",
   "id": "bf0160d4",
   "metadata": {},
   "source": [
    "Modified image\n",
    "![Add50](Add50.jpg)"
   ]
  },
  {
   "cell_type": "markdown",
   "id": "168be13f",
   "metadata": {},
   "source": [
    "The darker regions in the original image have turned brighter however the previously brighter regions have changed drastically. \n",
    "Pixels with all colour intensities greater than 205 have turned black as their intensities exceeded 255 upon addition of 50 (all stars have turned black). Regions which had only one or two colour intensities greater than 205 have changed their colour. Bright yellow regions have turned greenish and bright blue regions have turned yellowish."
   ]
  },
  {
   "cell_type": "markdown",
   "id": "1094293d",
   "metadata": {},
   "source": [
    "### 8. Invert the y-axis to create a mirror image and display it."
   ]
  },
  {
   "cell_type": "code",
   "execution_count": 20,
   "id": "cb426006",
   "metadata": {
    "scrolled": true
   },
   "outputs": [
    {
     "data": {
      "text/plain": [
       "True"
      ]
     },
     "execution_count": 20,
     "metadata": {},
     "output_type": "execute_result"
    }
   ],
   "source": [
    "image = cv2.imread('JW.jpg') #Reads the image\n",
    "image_mirror = image.copy()\n",
    "\n",
    "for i in range(h): #Spans the x-range\n",
    "    for j in range(w): #Spans the y-range\n",
    "            image_mirror[i][j] = image[i][w-j-1]   #Inverts the pixels on the y-axis\n",
    "\n",
    "#Displaying the image\n",
    "cv2.imshow('James Webb',image_mirror)\n",
    "cv2.waitKey(0) #Wait's for a keystroke\n",
    "cv2.destroyAllWindows() #Destroys all windows after keystroke\n",
    "\n",
    "cv2.imwrite('Mirror.jpg',image_mirror) #Saves the image"
   ]
  },
  {
   "cell_type": "markdown",
   "id": "094e5c7c",
   "metadata": {},
   "source": [
    "Mirror Image \n",
    "![Mirror](Mirror.jpg)"
   ]
  },
  {
   "cell_type": "markdown",
   "id": "30a889fd",
   "metadata": {},
   "source": [
    "### 9. Take a night shot of your own, convert it to greyscale, and display its histogram."
   ]
  },
  {
   "cell_type": "code",
   "execution_count": 24,
   "id": "f17a9530",
   "metadata": {
    "scrolled": true
   },
   "outputs": [
    {
     "name": "stdout",
     "output_type": "stream",
     "text": [
      "Height = 800,  Width = 600, Intensity =3\n"
     ]
    }
   ],
   "source": [
    "image2 = cv2.imread('Night.jpg') #Reads the image\n",
    "\n",
    "#Displaying the image\n",
    "cv2.imshow('Night',image2)\n",
    "cv2.waitKey(0) #Wait's for a keystroke\n",
    "cv2.destroyAllWindows() #Destroys all windows after keystroke\n",
    "\n",
    "h, w, i = image2.shape #Stores the values of height and width of image in 'h' and 'w'\n",
    "print(\"Height = {},  Width = {}, Intensity ={}\".format(h, w, i)) #Prints height and width\n"
   ]
  },
  {
   "cell_type": "markdown",
   "id": "13d9f7d5",
   "metadata": {},
   "source": [
    "Original Image \n",
    "![night](Night.jpg)"
   ]
  },
  {
   "cell_type": "code",
   "execution_count": 25,
   "id": "6f8fa513",
   "metadata": {},
   "outputs": [
    {
     "data": {
      "text/plain": [
       "True"
      ]
     },
     "execution_count": 25,
     "metadata": {},
     "output_type": "execute_result"
    }
   ],
   "source": [
    "night_grey = image2\n",
    "#To convert image to greyscale\n",
    "for i in range(h):\n",
    "    for j in range(w):\n",
    "        night_grey[i][j] = sum(image2[i][j])/3  # Average of the BGR pixel values\n",
    "        \n",
    "#Displaying the image\n",
    "cv2.imshow('Night',night_grey)\n",
    "cv2.waitKey(0) #Wait's for a keystroke\n",
    "cv2.destroyAllWindows() #Destroys all windows after keystroke\n",
    "\n",
    "cv2.imwrite('Night_grey.jpg',night_grey) #Saves the image"
   ]
  },
  {
   "cell_type": "markdown",
   "id": "c0992eca",
   "metadata": {},
   "source": [
    "Greyscale Image \n",
    "![night](Night_grey.jpg)"
   ]
  },
  {
   "cell_type": "code",
   "execution_count": 26,
   "id": "632426f1",
   "metadata": {
    "scrolled": true
   },
   "outputs": [],
   "source": [
    "def histogram(img): #Function to generate histogram\n",
    "    hist = np.zeros(256, dtype = int) #Initializing an array of ranfe 0 to 255\n",
    "    h, w = img.shape[:2] #Finds dimensions of image\n",
    "    \n",
    "    for i in range(h): #Spans the x-range\n",
    "        for j in range(w): #Spans the y-range\n",
    "            hist[img[i][j][1]] += 1  #Takes the value of intenstity of pixel and \n",
    "                                        #increments the index corresponding to it by one\n",
    "    return hist/(h*w)\n",
    "\n",
    "hist = histogram(night_grey)"
   ]
  },
  {
   "cell_type": "code",
   "execution_count": 27,
   "id": "b43bdd21",
   "metadata": {
    "scrolled": true
   },
   "outputs": [
    {
     "data": {
      "image/png": "[encoded data removed]",
      "text/plain": [
       "<Figure size 432x288 with 1 Axes>"
      ]
     },
     "metadata": {
      "needs_background": "light"
     },
     "output_type": "display_data"
    }
   ],
   "source": [
    "plt.plot(hist)\n",
    "plt.show()"
   ]
  },
  {
   "cell_type": "markdown",
   "id": "6d27a217",
   "metadata": {},
   "source": [
    "### 10. Brighten the image by multiplying pixel values with a>1, and find a good value of a."
   ]
  },
  {
   "cell_type": "code",
   "execution_count": 7,
   "id": "09f599a6",
   "metadata": {},
   "outputs": [
    {
     "data": {
      "text/plain": [
       "True"
      ]
     },
     "execution_count": 7,
     "metadata": {},
     "output_type": "execute_result"
    }
   ],
   "source": [
    "night_bright = night_grey.copy() #Copy of image\n",
    "\n",
    "a = 1.2 # increasing brightness by 20%\n",
    "\n",
    "for i in range(h): #Spans the x-range\n",
    "    for j in range(w): #Spans the y-range\n",
    "        for m in range(3):\n",
    "            night_bright[i][j][m] = min(a*night_bright[i][j][m],255)  #If intensity value is more than 255 \n",
    "                                        # after multiplication, it gets capped at 255\n",
    "            \n",
    "#Displaying the image\n",
    "cv2.imshow('Night',night_bright)\n",
    "cv2.waitKey(0) #Wait's for a keystroke\n",
    "cv2.destroyAllWindows() #Destroys all windows after keystroke\n",
    "\n",
    "cv2.imwrite('Night_grey_bright.jpg',night_bright) #Saves the image\n"
   ]
  },
  {
   "cell_type": "markdown",
   "id": "740ec8b2",
   "metadata": {},
   "source": [
    "Brighter Image \n",
    "    ![night](Night_grey_bright.jpg)"
   ]
  },
  {
   "cell_type": "markdown",
   "id": "47154f18",
   "metadata": {},
   "source": [
    "### 11. Try to enhance it using power transform, display results for different gammas, and find the best (subjective) gamma."
   ]
  },
  {
   "cell_type": "code",
   "execution_count": 8,
   "id": "b801bd9c",
   "metadata": {},
   "outputs": [],
   "source": [
    "def gamma(y,img): #Function to implement gamma transform\n",
    "    h, w = img.shape[:2] #Finds dimensions of image\n",
    "    \n",
    "    for i in range(h): #Spans the x-range\n",
    "        for j in range(w): #Spans the y-range\n",
    "            img[i][j][0] = int(((float(img[i][j][0])/255.0)**y)*255) #Implements the power transform\n",
    "            img[i][j][1] = img[i][j][0] #Copies value to other colour intesities\n",
    "            img[i][j][2] = img[i][j][0]\n",
    "    return img"
   ]
  },
  {
   "cell_type": "code",
   "execution_count": 9,
   "id": "cd5d9927",
   "metadata": {},
   "outputs": [
    {
     "data": {
      "text/plain": [
       "True"
      ]
     },
     "execution_count": 9,
     "metadata": {},
     "output_type": "execute_result"
    }
   ],
   "source": [
    "night_gamma = gamma(1.4,night_grey.copy()) #Gamma = 1.4\n",
    "\n",
    "#Displaying the image\n",
    "cv2.imshow('Night',night_gamma)\n",
    "cv2.waitKey(0) #Wait's for a keystroke\n",
    "cv2.destroyAllWindows() #Destroys all windows after keystroke\n",
    "\n",
    "cv2.imwrite('gamma=1.4.jpg',night_gamma) #Saves the image\n",
    "\n",
    "\n",
    "\n",
    "night_gamma = gamma(1.2,night_grey.copy()) #Gamma = 1.2\n",
    "\n",
    "#Displaying the image\n",
    "cv2.imshow('Night',night_gamma)\n",
    "cv2.waitKey(0) #Wait's for a keystroke\n",
    "cv2.destroyAllWindows() #Destroys all windows after keystroke\n",
    "\n",
    "cv2.imwrite('gamma=1.2.jpg',night_gamma) #Saves the image\n",
    "\n",
    "\n",
    "night_gamma = gamma(0.8,night_grey.copy()) #Gamma = 0.8\n",
    "\n",
    "#Displaying the image\n",
    "cv2.imshow('Night',night_gamma)\n",
    "cv2.waitKey(0) #Wait's for a keystroke\n",
    "cv2.destroyAllWindows() #Destroys all windows after keystroke\n",
    "\n",
    "cv2.imwrite('gamma=0.8.jpg',night_gamma) #Saves the image\n",
    "\n",
    "night_gamma = gamma(0.7,night_grey.copy()) #Gamma = 0.7\n",
    "\n",
    "#Displaying the image\n",
    "cv2.imshow('Night',night_gamma)\n",
    "cv2.waitKey(0) #Wait's for a keystroke\n",
    "cv2.destroyAllWindows() #Destroys all windows after keystroke\n",
    "\n",
    "cv2.imwrite('gamma=0.7.jpg',night_gamma) #Saves the image\n",
    "\n",
    "\n",
    "night_gamma = gamma(0.6,night_grey.copy()) #Gamma = 0.6\n",
    "\n",
    "#Displaying the image\n",
    "cv2.imshow('Night',night_gamma)\n",
    "cv2.waitKey(0) #Wait's for a keystroke\n",
    "cv2.destroyAllWindows() #Destroys all windows after keystroke\n",
    "\n",
    "cv2.imwrite('gamma=0.6.jpg',night_gamma) #Saves the image\n"
   ]
  },
  {
   "cell_type": "markdown",
   "id": "0d63bc4c",
   "metadata": {},
   "source": [
    "### Gamma = 1.4\n",
    "![night](gamma=1.4.jpg)\n",
    "\n",
    "### Gamma = 1.2\n",
    "![night](gamma=1.2.jpg)\n",
    "\n",
    "### Gamma = 0.8\n",
    "![night](gamma=0.8.jpg)\n",
    "\n",
    "### Gamma = 0.7\n",
    "![night](gamma=0.7.jpg)\n",
    "\n",
    "### Gamma = 0.6\n",
    "![night](gamma=0.6.jpg)\n"
   ]
  },
  {
   "cell_type": "markdown",
   "id": "45446cc4",
   "metadata": {},
   "source": [
    "I find the image with gamma = 0.8 as the best one"
   ]
  },
  {
   "cell_type": "markdown",
   "id": "d1630321",
   "metadata": {},
   "source": [
    "### 12. Perform histogram equalization to enhance it and display the histogram. Comment on why the histogram is not flat."
   ]
  },
  {
   "cell_type": "code",
   "execution_count": 10,
   "id": "3e4d457a",
   "metadata": {},
   "outputs": [],
   "source": [
    "def histeq(img): #Function to perform histogram equalization\n",
    "    hist = histogram(img) #calculate Histogram\n",
    "    transfer = hist.copy()\n",
    "    for i in range(len(hist)):\n",
    "        transfer[i] = int((255) * np.sum(hist[0:i])) #cumulative distribution function\n",
    "     #finding transfer function values\n",
    "    h, w = img.shape[:2]\n",
    "    img_eq = np.zeros_like(img)\n",
    "    # applying transfered values for each pixels\n",
    "    for i in range(0, h):\n",
    "        for j in range(0, w):\n",
    "            img_eq[i, j] = transfer[img[i, j]] #Finds the equalized intensity value corresponding to the intensity value of original image\n",
    "    hist_eq = histogram(img_eq) # New histogram\n",
    "    #return transformed image, original and new istogram, \n",
    "    # and transform function\n",
    "    return img_eq , hist, hist_eq, transfer\n",
    "\n",
    "night_eq, hist, eq_hist, sk = histeq(night_grey)\n"
   ]
  },
  {
   "cell_type": "code",
   "execution_count": 11,
   "id": "96eba064",
   "metadata": {},
   "outputs": [
    {
     "data": {
      "text/plain": [
       "True"
      ]
     },
     "execution_count": 11,
     "metadata": {},
     "output_type": "execute_result"
    }
   ],
   "source": [
    "#Displaying the image\n",
    "cv2.imshow('Night',night_eq)\n",
    "cv2.waitKey(0) #Wait's for a keystroke\n",
    "cv2.destroyAllWindows() #Destroys all windows after keystroke\n",
    "\n",
    "cv2.imwrite('night_equalized.jpg',night_eq) #Saves the image"
   ]
  },
  {
   "cell_type": "code",
   "execution_count": 12,
   "id": "91ec5db0",
   "metadata": {},
   "outputs": [
    {
     "data": {
      "image/png": "[encoded data removed]",
      "text/plain": [
       "<Figure size 432x288 with 1 Axes>"
      ]
     },
     "metadata": {
      "needs_background": "light"
     },
     "output_type": "display_data"
    },
    {
     "data": {
      "image/png": "[encoded data removed]",
      "text/plain": [
       "<Figure size 432x288 with 1 Axes>"
      ]
     },
     "metadata": {
      "needs_background": "light"
     },
     "output_type": "display_data"
    },
    {
     "data": {
      "image/png": "[encoded data removed]",
      "text/plain": [
       "<Figure size 432x288 with 1 Axes>"
      ]
     },
     "metadata": {
      "needs_background": "light"
     },
     "output_type": "display_data"
    }
   ],
   "source": [
    "plt.plot(hist) #Previous Histogram\n",
    "plt.show()\n",
    "plt.plot(sk) #Transfer Function\n",
    "plt.show()\n",
    "plt.plot(eq_hist) #Equalized histogram\n",
    "plt.show()"
   ]
  },
  {
   "cell_type": "markdown",
   "id": "86c97cfc",
   "metadata": {},
   "source": [
    "The histogram is not flat because the histogram is discrete i.e there is a fixed number of values in a range. When the intensity value are remapped, they are not redistributed uniformly across the entire range. Pixels having same intensity still have same intensity after histogram equalization. "
   ]
  },
  {
   "cell_type": "markdown",
   "id": "e5a4e875",
   "metadata": {},
   "source": [
    "Equalized Image \n",
    "    ![eq](night_equalized.jpg)"
   ]
  },
  {
   "cell_type": "markdown",
   "id": "29fe2d88",
   "metadata": {},
   "source": [
    "Image after histogram equalization has better detail in darker regions but overall doesn't look good"
   ]
  },
  {
   "cell_type": "markdown",
   "id": "52c3c115",
   "metadata": {},
   "source": [
    "### 13. Think of a good target histogram and do histogram specification (histogram matching)"
   ]
  },
  {
   "cell_type": "code",
   "execution_count": 56,
   "id": "d92dea25",
   "metadata": {},
   "outputs": [],
   "source": [
    "matching = cv2.imread('matching.jpeg')\n",
    "\n",
    "\n",
    "#Displaying the image\n",
    "cv2.imshow('Match1',matching)\n",
    "cv2.waitKey(0) #Wait's for a keystroke\n",
    "cv2.destroyAllWindows() #Destroys all windows after keystroke\n",
    "\n",
    "h, w = matching.shape[:2] #Stores the values of height and width of image in 'h' and 'w'"
   ]
  },
  {
   "cell_type": "code",
   "execution_count": 57,
   "id": "25f80ebd",
   "metadata": {},
   "outputs": [
    {
     "data": {
      "text/plain": [
       "True"
      ]
     },
     "execution_count": 57,
     "metadata": {},
     "output_type": "execute_result"
    }
   ],
   "source": [
    "matching_grey = matching #Converting image for histogram matching to greyscale\n",
    "#To convert image to greyscale\n",
    "for i in range(h):\n",
    "    for j in range(w):\n",
    "        matching_grey[i][j] = sum(matching[i][j])/3  # Average of the BGR pixel values\n",
    "        \n",
    "#Displaying the image\n",
    "cv2.imshow('Match_grey',matching_grey)\n",
    "cv2.waitKey(0) #Wait's for a keystroke\n",
    "cv2.destroyAllWindows() #Destroys all windows after keystroke\n",
    "\n",
    "cv2.imwrite('matching_grey.jpg',matching_grey) #Saves the image"
   ]
  },
  {
   "cell_type": "markdown",
   "id": "766429f2",
   "metadata": {},
   "source": [
    "Image for histogram matching\n",
    "        ![eq](matching_grey.jpg)"
   ]
  },
  {
   "cell_type": "code",
   "execution_count": 61,
   "id": "e1de59c7",
   "metadata": {},
   "outputs": [],
   "source": [
    "def transfer_f(src_cdf, ref_cdf): #Function to find the transfer function \n",
    "   \n",
    "    lookup_table = np.zeros(256)\n",
    "    lookup_val = 0\n",
    "    for src_pixel_val in range(len(src_cdf)):\n",
    "        lookup_val\n",
    "        for ref_pixel_val in range(len(ref_cdf)):\n",
    "            if ref_cdf[ref_pixel_val] >= src_cdf[src_pixel_val]:\n",
    "                lookup_val = ref_pixel_val\n",
    "                break\n",
    "        lookup_table[src_pixel_val] = lookup_val\n",
    "    return lookup_table\n",
    "\n",
    "def histmatch(img,img_match): #Function to perform histogram equalization\n",
    "    hist_input = histogram(img) #calculate Histogram\n",
    "    hist_target = histogram(img_match)\n",
    "    \n",
    "    # Get the cumulative sum of the elements\n",
    "    cdf_input = hist_input.cumsum()\n",
    "    cdf_target = hist_target.cumsum()\n",
    "    # Normalize the cdf\n",
    "    normalized_cdf_input = cdf_input / float(cdf_input.max())\n",
    "    normalized_cdf_target = cdf_target / float(cdf_target.max())\n",
    "    \n",
    "    transfer = hist_input.copy()\n",
    "    transfer = transfer_f(normalized_cdf_input, normalized_cdf_target)\n",
    "    h, w = img.shape[:2] \n",
    "    img_new = np.zeros_like(img)\n",
    "    # applying transfered values for each pixels\n",
    "    for i in range(0, h):\n",
    "        for j in range(0, w):\n",
    "            img_new[i, j] = transfer[img[i, j]] #Finds the matching intensity value in the target histogram corresponding to the intensity value of original image\n",
    "    hist_new = histogram(img_new) # New histogram\n",
    "    #return transformed image, original and new istogram, \n",
    "    # and transform function\n",
    "    return img_new , hist, hist_new, transfer\n",
    "\n",
    "night_match, hist, eq_hist, sk = histmatch(night_grey,matching)\n",
    "\n"
   ]
  },
  {
   "cell_type": "code",
   "execution_count": 59,
   "id": "a34dece2",
   "metadata": {},
   "outputs": [
    {
     "data": {
      "text/plain": [
       "True"
      ]
     },
     "execution_count": 59,
     "metadata": {},
     "output_type": "execute_result"
    }
   ],
   "source": [
    "#Displaying the image\n",
    "cv2.imshow('Night',night_match)\n",
    "cv2.waitKey(0) #Wait's for a keystroke\n",
    "cv2.destroyAllWindows() #Destroys all windows after keystroke\n",
    "\n",
    "cv2.imwrite('night_match.jpg',night_match) #Saves the image"
   ]
  },
  {
   "cell_type": "code",
   "execution_count": 60,
   "id": "d4973c8b",
   "metadata": {},
   "outputs": [
    {
     "data": {
      "image/png": "[encoded data removed]",
      "text/plain": [
       "<Figure size 432x288 with 1 Axes>"
      ]
     },
     "metadata": {
      "needs_background": "light"
     },
     "output_type": "display_data"
    },
    {
     "data": {
      "image/png": "[encoded data removed]",
      "text/plain": [
       "<Figure size 432x288 with 1 Axes>"
      ]
     },
     "metadata": {
      "needs_background": "light"
     },
     "output_type": "display_data"
    },
    {
     "data": {
      "image/png": "[encoded data removed]",
      "text/plain": [
       "<Figure size 432x288 with 1 Axes>"
      ]
     },
     "metadata": {
      "needs_background": "light"
     },
     "output_type": "display_data"
    }
   ],
   "source": [
    "plt.plot(hist) #Previous Histogram\n",
    "plt.show()\n",
    "plt.plot(sk) #Transfer Function\n",
    "plt.show()\n",
    "plt.plot(eq_hist) #Equalized histogram\n",
    "plt.show()"
   ]
  },
  {
   "cell_type": "markdown",
   "id": "9ce01c9a",
   "metadata": {},
   "source": [
    "Image after Histogram Matching\n",
    "![](Night_match.jpg)"
   ]
  },
  {
   "cell_type": "markdown",
   "id": "69733461",
   "metadata": {},
   "source": [
    "The image looks more detailed with darker parts more visible, it has a much better contrast than the oringinal image"
   ]
  },
  {
   "cell_type": "markdown",
   "id": "6b0dced4",
   "metadata": {},
   "source": [
    "### Sources of inspiration or information\n",
    "\n",
    "- Learn OpenCV - http://learnopencv.com\n",
    "- Digital Image Processing - Rafael C. Gonzalez • Richard E. Woods\n",
    "- https://towardsdatascience.com/histogram-matching-ee3a67b4cbc1 (Image for Histogram Matching)"
   ]
  },
  {
   "cell_type": "code",
   "execution_count": null,
   "id": "2a88e3cc",
   "metadata": {},
   "outputs": [],
   "source": []
  }
 ],
 "metadata": {
  "kernelspec": {
   "display_name": "Python 3",
   "language": "python",
   "name": "python3"
  },
  "language_info": {
   "codemirror_mode": {
    "name": "ipython",
    "version": 3
   },
   "file_extension": ".py",
   "mimetype": "text/x-python",
   "name": "python",
   "nbconvert_exporter": "python",
   "pygments_lexer": "ipython3",
   "version": "3.8.8"
  }
 },
 "nbformat": 4,
 "nbformat_minor": 5
}
